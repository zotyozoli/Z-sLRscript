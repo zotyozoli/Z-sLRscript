{
 "cells": [
  {
   "cell_type": "markdown",
   "metadata": {},
   "source": [
    "# Zoltan's LR script"
   ]
  },
  {
   "cell_type": "code",
   "execution_count": null,
   "metadata": {},
   "outputs": [],
   "source": [
    "echo \"************************* VOLATILE DATE *************************\" >> zlrs.txt\n",
    "zip zlrs.zip zlrs.txt"
   ]
  },
  {
   "cell_type": "markdown",
   "metadata": {},
   "source": [
    "## Volatile Data\n",
    "### Memory\n"
   ]
  },
  {
   "cell_type": "code",
   "execution_count": null,
   "metadata": {},
   "outputs": [],
   "source": [
    "winpmem ### THIS NEEDS TO BE PROPERLY CONFIGURED"
   ]
  },
  {
   "cell_type": "markdown",
   "metadata": {},
   "source": [
    "### Date"
   ]
  },
  {
   "cell_type": "code",
   "execution_count": null,
   "metadata": {},
   "outputs": [],
   "source": [
    "echo \"****************************** DATE ******************************\" >> zlrs.txt\n",
    "date >> zlrs.txt\n",
    "zip zlrs.zip zlrs.txt"
   ]
  },
  {
   "cell_type": "markdown",
   "metadata": {},
   "source": [
    "### Network connections:"
   ]
  },
  {
   "cell_type": "code",
   "execution_count": null,
   "metadata": {},
   "outputs": [],
   "source": [
    "echo \"****************************** NETWORK CONNECTIONS ******************************\" >> zlrs.txt\n",
    "netstat -abn >> zlrs.txt\n",
    "zip zlrs.zip zlrs.txt\n",
    "md5 zlrs.txt >> zlrs.txt.md5"
   ]
  },
  {
   "cell_type": "markdown",
   "metadata": {},
   "source": [
    "### Dns Info"
   ]
  },
  {
   "cell_type": "code",
   "execution_count": null,
   "metadata": {},
   "outputs": [],
   "source": [
    "echo \"****************************** DNS INFO ******************************\" >> zlrs.txt\n",
    "ipconfig /displaydns >> zlrs.txt\n",
    "zip zlrs.zip zlrs.txt"
   ]
  },
  {
   "cell_type": "markdown",
   "metadata": {},
   "source": [
    "### ARP Table"
   ]
  },
  {
   "cell_type": "code",
   "execution_count": null,
   "metadata": {
    "scrolled": true
   },
   "outputs": [],
   "source": [
    "echo \"****************************** ARP TABLE *************************\" >> zlrs.txt\n",
    "arp -a >> zlrs.txt\n",
    "zip zlrs.zip zlrs.txt"
   ]
  },
  {
   "cell_type": "markdown",
   "metadata": {},
   "source": [
    "### Network Routes"
   ]
  },
  {
   "cell_type": "code",
   "execution_count": null,
   "metadata": {},
   "outputs": [],
   "source": [
    "echo \"************************* NETWORK ROUTES *************************\" >> zlrs.txt\n",
    "route print >> zlrs.txt\n",
    "zip zlrs.zip zlrs.txt"
   ]
  },
  {
   "cell_type": "markdown",
   "metadata": {},
   "source": [
    "### Running Processes"
   ]
  },
  {
   "cell_type": "code",
   "execution_count": null,
   "metadata": {},
   "outputs": [],
   "source": [
    "echo \"************************* PROCESSES *************************\" >> zlrs.txt\n",
    "pslist >> zlrs.txt\n",
    "zip zlrs.zip zlrs.txt"
   ]
  },
  {
   "cell_type": "markdown",
   "metadata": {},
   "source": [
    "### Handles - objects open by a process"
   ]
  },
  {
   "cell_type": "code",
   "execution_count": null,
   "metadata": {},
   "outputs": [],
   "source": [
    "echo \"************************* HANDLES *************************\" >> zlrs.txt\n",
    "handle >> zlrs.txt\n",
    "zip zlrs.zip zlrs.txt"
   ]
  },
  {
   "cell_type": "markdown",
   "metadata": {},
   "source": [
    "### Pipes"
   ]
  },
  {
   "cell_type": "code",
   "execution_count": null,
   "metadata": {},
   "outputs": [],
   "source": [
    "echo \"************************* PIPES *************************\" >> zlrs.txt\n",
    "pipelist >> zlrs.txt\n",
    "zip zlrs.zip zlrs.txt"
   ]
  },
  {
   "cell_type": "markdown",
   "metadata": {},
   "source": [
    "### Prefetch Files -  list the process name and last time the process was executed"
   ]
  },
  {
   "cell_type": "code",
   "execution_count": null,
   "metadata": {},
   "outputs": [],
   "source": [
    "echo \"************************* PREFETCH FILES *************************\" >> zlrs.txt\n",
    "gci -path C:\\windows\\prefetch\\*.pf -ea 0 | select Name,LastAccessTime,CreationTime | sort LastAccessTime | ConvertTo-CSV >> zlrs.txt\n",
    "zip zlrs.zip zlrs.txt"
   ]
  },
  {
   "cell_type": "markdown",
   "metadata": {},
   "source": [
    "### Logged on users and groups"
   ]
  },
  {
   "cell_type": "code",
   "execution_count": null,
   "metadata": {},
   "outputs": [],
   "source": [
    "echo \"************************* LOGGED USERS *************************\" >> zlrs.txt\n",
    "logonsessions -accepteula >> zlrs.txt\n",
    "zip zlrs.zip zlrs.txt"
   ]
  },
  {
   "cell_type": "markdown",
   "metadata": {},
   "source": [
    "### Users and groups on the local system"
   ]
  },
  {
   "cell_type": "code",
   "execution_count": null,
   "metadata": {},
   "outputs": [],
   "source": [
    "echo \"************************* USER ACCOUNTS *************************\" >> zlrs.txt\n",
    "net user >> zlrs.txt\n",
    "zip zlrs.zip zlrs.txt"
   ]
  },
  {
   "cell_type": "code",
   "execution_count": null,
   "metadata": {},
   "outputs": [],
   "source": [
    "echo \"************************* GROUPS *************************\" >> zlrs.txt\n",
    "net group >> zlrs.txt\n",
    "zip zlrs.zip zlrs.txt"
   ]
  },
  {
   "cell_type": "code",
   "execution_count": null,
   "metadata": {},
   "outputs": [],
   "source": [
    "echo \"************************* NON-VOLATILE DATA *************************\" >> zlrs.txt\n",
    "zip zlrs.zip zlrs.txt"
   ]
  },
  {
   "cell_type": "markdown",
   "metadata": {},
   "source": [
    "## Non Volatile Data"
   ]
  },
  {
   "cell_type": "markdown",
   "metadata": {},
   "source": [
    "### Host Configuration"
   ]
  },
  {
   "cell_type": "code",
   "execution_count": null,
   "metadata": {},
   "outputs": [],
   "source": [
    "echo \"************************* HOST CONFIG *************************\" >> zlrs.txt\n",
    "systeminfo >> zlrs.txt\n",
    "zip zlrs.zip zlrs.txt"
   ]
  },
  {
   "cell_type": "markdown",
   "metadata": {},
   "source": [
    "### Network Configuration"
   ]
  },
  {
   "cell_type": "code",
   "execution_count": null,
   "metadata": {},
   "outputs": [],
   "source": [
    "echo \"************************* NETWORK CONFIG *************************\" >> zlrs.txt\n",
    "ipconfig /all >> zlrs.txt\n",
    "zip zlrs.zip zlrs.txt"
   ]
  },
  {
   "cell_type": "markdown",
   "metadata": {},
   "source": [
    "### Scheduled Jobs"
   ]
  },
  {
   "cell_type": "code",
   "execution_count": null,
   "metadata": {},
   "outputs": [],
   "source": [
    "echo \"************************* SCHEDULED TASKS *************************\" >> zlrs.txt\n",
    "schtasks >> zlrs.txt\n",
    "zip zlrs.zip zlrs.txt"
   ]
  },
  {
   "cell_type": "markdown",
   "metadata": {},
   "source": [
    "### Autoruns - gather Windows systems automatic script and executable start locations"
   ]
  },
  {
   "cell_type": "code",
   "execution_count": null,
   "metadata": {},
   "outputs": [],
   "source": [
    "echo \"************************* AUTORUNS *************************\" >> zlrs.txt\n",
    "autoruns -a autoruns.db -v >> zlrs.txt\n",
    "zip zlrs.zip zlrs.txt"
   ]
  },
  {
   "cell_type": "markdown",
   "metadata": {},
   "source": [
    "### Event Logs"
   ]
  },
  {
   "cell_type": "code",
   "execution_count": null,
   "metadata": {},
   "outputs": [],
   "source": [
    "echo \"************************* EVENT LOGS *************************\" >> zlrs.txt\n",
    "Get-WinEvent -FilterHashtable @{Logname='security';}  -max 100  | select TimeCreated,ID,Message | ConvertTo-CSV >> zlrs.txt\n",
    "zip zlrs.zip zlrs.txt"
   ]
  },
  {
   "cell_type": "code",
   "execution_count": null,
   "metadata": {},
   "outputs": [],
   "source": [
    "Get-WinEvent -FilterHashtable @{Logname='application';}  -max 100  | select TimeCreated,ID,Message | ConvertTo-CSV >> zlrs.txt\n",
    "zip zlrs.zip zlrs.txt"
   ]
  },
  {
   "cell_type": "code",
   "execution_count": null,
   "metadata": {},
   "outputs": [],
   "source": [
    "Get-WinEvent -FilterHashtable @{Logname='system';}  -max 100  | select TimeCreated,ID,Message | ConvertTo-CSV >> zlrs.txt\n",
    "zip zlrs.zip zlrs.txt"
   ]
  },
  {
   "cell_type": "markdown",
   "metadata": {},
   "source": [
    "### File Listings - File and Folder Metadata"
   ]
  },
  {
   "cell_type": "code",
   "execution_count": null,
   "metadata": {},
   "outputs": [],
   "source": [
    "echo \"************************* FILE LISTINGS *************************\" >> zlrs.txt\n",
    "gci -Path $Env:systemdrive\\ -force -ea 0 | select fullname,CreationTime,lastwritetime | ConvertTo-CSV >> zlrs.txt\n",
    "zip zlrs.zip zlrs.txt"
   ]
  },
  {
   "cell_type": "code",
   "execution_count": null,
   "metadata": {},
   "outputs": [],
   "source": []
  }
 ],
 "metadata": {
  "kernelspec": {
   "display_name": "PowerShell",
   "language": "powershell",
   "name": "powershell"
  },
  "language_info": {
   "codemirror_mode": "shell",
   "file_extension": ".ps1",
   "mimetype": "text/x-sh",
   "name": "powershell"
  }
 },
 "nbformat": 4,
 "nbformat_minor": 2
}
